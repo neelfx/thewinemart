{
 "cells": [
  {
   "cell_type": "code",
   "execution_count": null,
   "metadata": {},
   "outputs": [],
   "source": [
    "# create_wine_db.ipynb\n",
    "# The Wine Mart\n",
    "# Application for 'Koodoo'\n",
    "# Applicant: Neel Patel\n",
    "# Email: neel@quarithm.com"
   ]
  },
  {
   "cell_type": "code",
   "execution_count": 1,
   "metadata": {
    "ExecuteTime": {
     "end_time": "2021-02-02T23:17:30.760558Z",
     "start_time": "2021-02-02T23:17:29.821543Z"
    }
   },
   "outputs": [],
   "source": [
    "import pandas as pd\n",
    "import numpy as np\n",
    "import sqlite3"
   ]
  },
  {
   "cell_type": "code",
   "execution_count": 2,
   "metadata": {
    "ExecuteTime": {
     "end_time": "2021-02-02T23:17:30.772542Z",
     "start_time": "2021-02-02T23:17:30.763545Z"
    }
   },
   "outputs": [],
   "source": [
    "# connect to the database and  retrieve cleaned data\n",
    "conn = sqlite3.connect(\"./the_wine_mart.sqlite\")\n",
    "c = conn.cursor() # The database will be saved in the location where your 'py' file is saved"
   ]
  },
  {
   "cell_type": "markdown",
   "metadata": {},
   "source": [
    "![schema](schema.png \"schema\")"
   ]
  },
  {
   "cell_type": "code",
   "execution_count": 3,
   "metadata": {
    "ExecuteTime": {
     "end_time": "2021-02-02T23:17:30.883069Z",
     "start_time": "2021-02-02T23:17:30.808546Z"
    }
   },
   "outputs": [],
   "source": [
    "\n",
    "\n",
    "# Create table - DimWinery\n",
    "c.execute('''CREATE TABLE DimWinery\n",
    "             ([Winery_Id] INTEGER PRIMARY KEY,[Winery_Name] TEXT)''')\n",
    "\n",
    "# Create table - DimGeography\n",
    "c.execute('''CREATE TABLE DimGeography\n",
    "             ([Geography_Id] INTEGER PRIMARY KEY,\n",
    "             [Country] TEXT,\n",
    "             [Province] TEXT,\n",
    "             [County] TEXT)''')\n",
    "\n",
    "# Create table - DimVariety\n",
    "c.execute('''CREATE TABLE DimVariety\n",
    "             ([Variety_Id] INTEGER PRIMARY KEY, [Variety] TEXT)''')\n",
    "\n",
    "\n",
    "# Create table - FactWine\n",
    "c.execute('''CREATE TABLE FactWine\n",
    "             ([Wine_Id] INTEGER PRIMARY KEY,[Title] TEXT,\n",
    "             [Winery_Id] INTEGER,\n",
    "             [Geography_Id] INTEGER,\n",
    "             [Variety_Id] INTEGER,\n",
    "             [Points] INTEGER,\n",
    "             [Price] REAL,\n",
    "             [Vintage] TEXT,\n",
    "             FOREIGN KEY (Winery_id) REFERENCES DimWinery (Winery_id),\n",
    "             FOREIGN KEY (Geography_Id) REFERENCES DimGeography (Geography_Id),\n",
    "             FOREIGN KEY (Variety_Id) REFERENCES DimVariety (Variety_Id))''')\n",
    "        \n",
    "                \n",
    "conn.commit()\n",
    "\n"
   ]
  },
  {
   "cell_type": "code",
   "execution_count": null,
   "metadata": {},
   "outputs": [],
   "source": []
  }
 ],
 "metadata": {
  "kernelspec": {
   "display_name": "Python 3",
   "language": "python",
   "name": "python3"
  },
  "language_info": {
   "codemirror_mode": {
    "name": "ipython",
    "version": 3
   },
   "file_extension": ".py",
   "mimetype": "text/x-python",
   "name": "python",
   "nbconvert_exporter": "python",
   "pygments_lexer": "ipython3",
   "version": "3.6.8"
  },
  "toc": {
   "base_numbering": 1,
   "nav_menu": {},
   "number_sections": true,
   "sideBar": true,
   "skip_h1_title": false,
   "title_cell": "Table of Contents",
   "title_sidebar": "Contents",
   "toc_cell": false,
   "toc_position": {},
   "toc_section_display": true,
   "toc_window_display": false
  }
 },
 "nbformat": 4,
 "nbformat_minor": 2
}
