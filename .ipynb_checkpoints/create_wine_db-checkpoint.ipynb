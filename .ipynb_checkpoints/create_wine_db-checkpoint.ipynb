{
 "cells": [
  {
   "cell_type": "code",
   "execution_count": 4,
   "metadata": {
    "ExecuteTime": {
     "end_time": "2021-02-14T21:57:17.080354Z",
     "start_time": "2021-02-14T21:57:16.987379Z"
    }
   },
   "outputs": [],
   "source": [
    "# create_wine_db.ipynb\n",
    "# The Wine Mart\n",
    "# Application for 'Koodoo'\n",
    "# Applicant: Neel Patel\n",
    "# Email: neel@quarithm.com"
   ]
  },
  {
   "cell_type": "code",
   "execution_count": 5,
   "metadata": {
    "ExecuteTime": {
     "end_time": "2021-02-14T21:57:17.942725Z",
     "start_time": "2021-02-14T21:57:17.819724Z"
    }
   },
   "outputs": [],
   "source": [
    "import pandas as pd\n",
    "import numpy as np\n",
    "import sqlite3"
   ]
  },
  {
   "cell_type": "code",
   "execution_count": 6,
   "metadata": {
    "ExecuteTime": {
     "end_time": "2021-02-14T21:57:18.952386Z",
     "start_time": "2021-02-14T21:57:18.507275Z"
    }
   },
   "outputs": [],
   "source": [
    "# connect to the database and  retrieve cleaned data\n",
    "conn = sqlite3.connect(\"./the_wine_mart.sqlite\")\n",
    "c = conn.cursor() # The database will be saved in the location where your 'py' file is saved"
   ]
  },
  {
   "cell_type": "markdown",
   "metadata": {},
   "source": [
    "![schema](schema.png \"schema\")"
   ]
  },
  {
   "cell_type": "code",
   "execution_count": 7,
   "metadata": {
    "ExecuteTime": {
     "end_time": "2021-02-14T21:57:23.724949Z",
     "start_time": "2021-02-14T21:57:20.280838Z"
    }
   },
   "outputs": [
    {
     "ename": "OperationalError",
     "evalue": "table DimWinery already exists",
     "output_type": "error",
     "traceback": [
      "\u001b[1;31m---------------------------------------------------------------------------\u001b[0m",
      "\u001b[1;31mOperationalError\u001b[0m                          Traceback (most recent call last)",
      "\u001b[1;32m<ipython-input-7-d3fb5dccd322>\u001b[0m in \u001b[0;36m<module>\u001b[1;34m()\u001b[0m\n\u001b[0;32m      3\u001b[0m \u001b[1;31m# Create table - DimWinery\u001b[0m\u001b[1;33m\u001b[0m\u001b[1;33m\u001b[0m\u001b[1;33m\u001b[0m\u001b[0m\n\u001b[0;32m      4\u001b[0m c.execute('''CREATE TABLE DimWinery\n\u001b[1;32m----> 5\u001b[1;33m              ([Winery_Id] INTEGER PRIMARY KEY,[Winery_Name] TEXT)''')\n\u001b[0m\u001b[0;32m      6\u001b[0m \u001b[1;33m\u001b[0m\u001b[0m\n\u001b[0;32m      7\u001b[0m \u001b[1;31m# Create table - DimGeography\u001b[0m\u001b[1;33m\u001b[0m\u001b[1;33m\u001b[0m\u001b[1;33m\u001b[0m\u001b[0m\n",
      "\u001b[1;31mOperationalError\u001b[0m: table DimWinery already exists"
     ]
    }
   ],
   "source": [
    "\n",
    "\n",
    "# Create table - DimWinery\n",
    "c.execute('''CREATE TABLE DimWinery\n",
    "             ([Winery_Id] INTEGER PRIMARY KEY,\n",
    "             [Winery_Name] TEXT)''')\n",
    "\n",
    "# Create table - DimGeography\n",
    "c.execute('''CREATE TABLE DimGeography\n",
    "             ([Geography_Id] INTEGER PRIMARY KEY,\n",
    "             [Country] TEXT,\n",
    "             [Province] TEXT,\n",
    "             [County] TEXT)''')\n",
    "\n",
    "# Create table - DimVariety\n",
    "c.execute('''CREATE TABLE DimVariety\n",
    "             ([Variety_Id] INTEGER PRIMARY KEY, [Variety] TEXT)''')\n",
    "\n",
    "\n",
    "# Create table - FactWine\n",
    "c.execute('''CREATE TABLE FactWine\n",
    "             ([Wine_Id] INTEGER PRIMARY KEY,\n",
    "             [Title] TEXT,\n",
    "             [Winery_Id] INTEGER,\n",
    "             [Geography_Id] INTEGER,\n",
    "             [Variety_Id] INTEGER,\n",
    "             [Points] INTEGER,\n",
    "             [Price] REAL,\n",
    "             [Vintage] TEXT,\n",
    "             FOREIGN KEY (Winery_id) REFERENCES DimWinery (Winery_id),\n",
    "             FOREIGN KEY (Geography_Id) REFERENCES DimGeography (Geography_Id),\n",
    "             FOREIGN KEY (Variety_Id) REFERENCES DimVariety (Variety_Id))''')\n",
    "        \n",
    "                \n",
    "conn.commit()\n",
    "\n",
    "conn.close()"
   ]
  },
  {
   "cell_type": "code",
   "execution_count": null,
   "metadata": {},
   "outputs": [],
   "source": []
  }
 ],
 "metadata": {
  "kernelspec": {
   "display_name": "Python 3",
   "language": "python",
   "name": "python3"
  },
  "language_info": {
   "codemirror_mode": {
    "name": "ipython",
    "version": 3
   },
   "file_extension": ".py",
   "mimetype": "text/x-python",
   "name": "python",
   "nbconvert_exporter": "python",
   "pygments_lexer": "ipython3",
   "version": "3.6.8"
  },
  "toc": {
   "base_numbering": 1,
   "nav_menu": {},
   "number_sections": true,
   "sideBar": true,
   "skip_h1_title": false,
   "title_cell": "Table of Contents",
   "title_sidebar": "Contents",
   "toc_cell": false,
   "toc_position": {},
   "toc_section_display": true,
   "toc_window_display": false
  }
 },
 "nbformat": 4,
 "nbformat_minor": 2
}
